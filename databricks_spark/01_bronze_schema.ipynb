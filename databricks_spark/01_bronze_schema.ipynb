{
 "cells": [
  {
   "cell_type": "code",
   "execution_count": 0,
   "metadata": {
    "application/vnd.databricks.v1+cell": {
     "cellMetadata": {
      "byteLimit": 2048000,
      "implicitDf": true,
      "rowLimit": 10000
     },
     "inputWidgets": {},
     "nuid": "a4225d33-045c-4e47-ada4-2b4fcfb74192",
     "showTitle": false,
     "tableResultSettingsMap": {},
     "title": ""
    }
   },
   "outputs": [],
   "source": [
    "%sql\n",
    "CREATE TABLE if NOT EXISTS new_ecommerce_cdc.bronze.orders\n",
    "(\n",
    "    key STRING COMMENT 'Kafka message key',\n",
    "    before STRING COMMENT 'Previous record state before update (JSON)',\n",
    "    after STRING COMMENT 'Updated record state after change (JSON)',\n",
    "    op STRING COMMENT 'CDC operation type (c=INSERT, u=UPDATE, d=DELETE, r=SNAPSHOT)',\n",
    "    ts_ms STRING COMMENT 'Timestamp of change event',\n",
    "    transaction STRING COMMENT 'Transaction metadata (JSON)',\n",
    "    source STRING COMMENT 'CDC metadata (JSON)',\n",
    "    partition INT COMMENT 'Kafka partition',\n",
    "    offset BIGINT COMMENT 'Kafka offset',\n",
    "    timestamp TIMESTAMP COMMENT 'Kafka event timestamp',\n",
    "    timestampType INT COMMENT 'Kafka timestamp type'\n",
    ")\n",
    "USING DELTA\n",
    "LOCATION 'gs://ecommerce_cdc/bronze/orders/';\n"
   ]
  },
  {
   "cell_type": "code",
   "execution_count": 0,
   "metadata": {
    "application/vnd.databricks.v1+cell": {
     "cellMetadata": {
      "byteLimit": 2048000,
      "implicitDf": true,
      "rowLimit": 10000
     },
     "inputWidgets": {},
     "nuid": "d7d13de8-3371-45e6-97da-9e0650e33760",
     "showTitle": false,
     "tableResultSettingsMap": {},
     "title": ""
    }
   },
   "outputs": [],
   "source": [
    "%sql\n",
    "CREATE TABLE IF NOT EXISTS new_ecommerce_cdc.bronze.customers\n",
    "(\n",
    "    key STRING COMMENT 'Kafka message key',\n",
    "    before STRING COMMENT 'Previous record state before update (JSON)',\n",
    "    after STRING COMMENT 'Updated record state after change (JSON)',\n",
    "    op STRING COMMENT 'CDC operation type (c=INSERT, u=UPDATE, d=DELETE, r=SNAPSHOT)',\n",
    "    ts_ms STRING COMMENT 'Timestamp of change event',\n",
    "    transaction STRING COMMENT 'Transaction metadata (JSON)',\n",
    "    source STRING COMMENT 'CDC metadata (JSON)',\n",
    "    partition INT COMMENT 'Kafka partition',\n",
    "    offset BIGINT COMMENT 'Kafka offset',\n",
    "    timestamp TIMESTAMP COMMENT 'Kafka event timestamp',\n",
    "    timestampType INT COMMENT 'Kafka timestamp type'\n",
    ")\n",
    "USING DELTA\n",
    "LOCATION 'gs://ecommerce_cdc/bronze/customers/';\n"
   ]
  },
  {
   "cell_type": "code",
   "execution_count": 0,
   "metadata": {
    "application/vnd.databricks.v1+cell": {
     "cellMetadata": {
      "byteLimit": 2048000,
      "implicitDf": true,
      "rowLimit": 10000
     },
     "inputWidgets": {},
     "nuid": "e7db2329-05cd-4243-9306-9eaa0a26f8dc",
     "showTitle": false,
     "tableResultSettingsMap": {},
     "title": ""
    }
   },
   "outputs": [],
   "source": [
    "%sql\n",
    "CREATE TABLE IF NOT EXISTS new_ecommerce_cdc.bronze.products\n",
    "(\n",
    "    key STRING COMMENT 'Kafka message key',\n",
    "    before STRING COMMENT 'Previous record state before update (JSON)',\n",
    "    after STRING COMMENT 'Updated record state after change (JSON)',\n",
    "    op STRING COMMENT 'CDC operation type (c=INSERT, u=UPDATE, d=DELETE, r=SNAPSHOT)',\n",
    "    ts_ms STRING COMMENT 'Timestamp of change event',\n",
    "    transaction STRING COMMENT 'Transaction metadata (JSON)',\n",
    "    source STRING COMMENT 'CDC metadata (JSON)',\n",
    "    partition INT COMMENT 'Kafka partition',\n",
    "    offset BIGINT COMMENT 'Kafka offset',\n",
    "    timestamp TIMESTAMP COMMENT 'Kafka event timestamp',\n",
    "    timestampType INT COMMENT 'Kafka timestamp type'\n",
    ")\n",
    "USING DELTA\n",
    "LOCATION 'gs://ecommerce_cdc/bronze/products/';\n"
   ]
  }
 ],
 "metadata": {
  "application/vnd.databricks.v1+notebook": {
   "computePreferences": null,
   "dashboards": [],
   "environmentMetadata": {
    "base_environment": "",
    "environment_version": "2"
   },
   "language": "python",
   "notebookMetadata": {
    "mostRecentlyExecutedCommandWithImplicitDF": {
     "commandId": 708745007130011,
     "dataframes": [
      "_sqldf"
     ]
    },
    "pythonIndentUnit": 4
   },
   "notebookName": "01_bronze_schema",
   "widgets": {}
  },
  "language_info": {
   "name": "python"
  }
 },
 "nbformat": 4,
 "nbformat_minor": 0
}
