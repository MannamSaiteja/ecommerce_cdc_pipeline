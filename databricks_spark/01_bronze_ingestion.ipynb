{
 "cells": [
  {
   "cell_type": "code",
   "execution_count": 0,
   "metadata": {
    "application/vnd.databricks.v1+cell": {
     "cellMetadata": {
      "byteLimit": 2048000,
      "rowLimit": 10000
     },
     "inputWidgets": {},
     "nuid": "7663aa3a-8725-4416-a2bf-3b438d844b6b",
     "showTitle": false,
     "tableResultSettingsMap": {},
     "title": ""
    }
   },
   "outputs": [],
   "source": [
    "from pyspark.sql.avro.functions import from_avro\n",
    "from pyspark.sql.functions import col, expr,when,from_unixtime,to_json\n",
    "import requests\n",
    "import json\n",
    "from requests.auth import HTTPBasicAuth\n",
    "from pyspark.sql import SparkSession\n"
   ]
  },
  {
   "cell_type": "code",
   "execution_count": 0,
   "metadata": {
    "application/vnd.databricks.v1+cell": {
     "cellMetadata": {
      "byteLimit": 2048000,
      "rowLimit": 10000
     },
     "inputWidgets": {},
     "nuid": "e7065e27-ad80-4570-a189-6af5ba41cb6f",
     "showTitle": false,
     "tableResultSettingsMap": {},
     "title": ""
    }
   },
   "outputs": [],
   "source": [
    "\n",
    "# Schema Registry Credentials\n",
    "schema_key = \"HEGTSVOYDEWE55DU\"\n",
    "schema_value = \"7LtLWK9GaUaoxzCZDKkfjNtJaYY6YbnkwPMcnGk/vnPwTF9OHhDEMJfHR350Q00p\"\n",
    "schema_registry_url = \"https://psrc-kg7rp.westus2.azure.confluent.cloud\"\n",
    "\n",
    "# Schema Registry Authentication\n",
    "schema_registry_options = {\n",
    "    \"schema.registry.url\": schema_registry_url,\n",
    "    \"basic.auth.credentials.source\": \"USER_INFO\",\n",
    "    \"schema.registry.basic.auth.user.info\": f\"{schema_key}:{schema_value}\"\n",
    "}\n"
   ]
  },
  {
   "cell_type": "code",
   "execution_count": 0,
   "metadata": {
    "application/vnd.databricks.v1+cell": {
     "cellMetadata": {
      "byteLimit": 2048000,
      "rowLimit": 10000
     },
     "inputWidgets": {},
     "nuid": "63afeb6b-3b1b-4744-99fd-96c0d448cb5a",
     "showTitle": false,
     "tableResultSettingsMap": {},
     "title": ""
    }
   },
   "outputs": [],
   "source": [
    "# Kafka Connection Details\n",
    "kafka_bootstrap_servers = \"pkc-921jm.us-east-2.aws.confluent.cloud:9092\"\n",
    "kafka_security_protocol = \"SASL_SSL\"\n",
    "kafka_sasl_mechanism = \"PLAIN\"\n",
    "kafka_username = \"RWRAIJMUJXJEGQS4\"\n",
    "kafka_password = \"3CJveQ6kNaSnhF3dncT/15SILxAz7bDXGeZl6iZjcey5Cf8mSqY/JmMfdIryDQSN\"\n",
    "kafka_topics = \"ecommerce.ecommerce.orders,ecommerce.ecommerce.customers,ecommerce.ecommerce.products\"\n",
    "\n",
    "kafka_options = {\n",
    "    \"kafka.bootstrap.servers\": kafka_bootstrap_servers,\n",
    "    \"subscribe\": kafka_topics,\n",
    "    \"startingOffsets\": \"earliest\",\n",
    "    \"kafka.security.protocol\": \"SASL_SSL\",\n",
    "    \"kafka.sasl.mechanism\": \"PLAIN\",\n",
    "    \"kafka.sasl.jaas.config\": f'org.apache.kafka.common.security.plain.PlainLoginModule required username=\"{kafka_username}\" password=\"{kafka_password}\";',\n",
    "    \"failOnDataLoss\": \"false\"\n",
    "}\n",
    "\n",
    "\n",
    "\n",
    "# Schema Registry Credentials\n",
    "schema_key = \"HEGTSVOYDEWE55DU\"\n",
    "schema_value = \"7LtLWK9GaUaoxzCZDKkfjNtJaYY6YbnkwPMcnGk/vnPwTF9OHhDEMJfHR350Q00p\"\n",
    "schema_registry_url = \"https://psrc-kg7rp.westus2.azure.confluent.cloud\"\n",
    "\n",
    "\n",
    "schema_registry_options = {\n",
    "    \"schema.registry.url\": schema_registry_url,\n",
    "    \"basic.auth.credentials.source\": \"USER_INFO\",\n",
    "    \"schema.registry.basic.auth.user.info\": f\"{schema_key}:{schema_value}\"\n",
    "}\n",
    "\n"
   ]
  },
  {
   "cell_type": "code",
   "execution_count": 0,
   "metadata": {
    "application/vnd.databricks.v1+cell": {
     "cellMetadata": {
      "byteLimit": 2048000,
      "rowLimit": 10000
     },
     "inputWidgets": {},
     "nuid": "f945e9e3-538d-4a75-9b6f-e537158423c2",
     "showTitle": false,
     "tableResultSettingsMap": {},
     "title": ""
    }
   },
   "outputs": [],
   "source": [
    "schema_subjects = [\"ecommerce.ecommerce.orders-value\", \"ecommerce.ecommerce.customers-value\", \"ecommerce.ecommerce.products-value\"]\n",
    "schema_registry_auth = HTTPBasicAuth(schema_key, schema_value)\n",
    "response = requests.get(f\"{schema_registry_url}/subjects\", auth=schema_registry_auth)\n",
    "print(response.json())\n"
   ]
  },
  {
   "cell_type": "code",
   "execution_count": 0,
   "metadata": {
    "application/vnd.databricks.v1+cell": {
     "cellMetadata": {
      "byteLimit": 2048000,
      "rowLimit": 10000
     },
     "inputWidgets": {},
     "nuid": "0f795386-9701-4e45-9472-e08d2f3d4708",
     "showTitle": false,
     "tableResultSettingsMap": {},
     "title": ""
    }
   },
   "outputs": [],
   "source": [
    "\n",
    "schemas={}\n",
    "schema_registry_auth = HTTPBasicAuth(schema_key, schema_value)\n",
    "for subject in schema_subjects:\n",
    "    response = requests.get(f\"{schema_registry_url}/subjects/{subject}/versions/latest\", auth=schema_registry_auth)\n",
    "    if response.status_code == 200:\n",
    "         schema_str=response.json()[\"schema\"]\n",
    "         \n",
    "         schemas[subject]=schema_str\n",
    "    else:\n",
    "        print(f\"Error getting schema for subject {subject}, status code {response.status_code}\")\n",
    "print(schemas.keys())"
   ]
  },
  {
   "cell_type": "code",
   "execution_count": 0,
   "metadata": {
    "application/vnd.databricks.v1+cell": {
     "cellMetadata": {
      "byteLimit": 2048000,
      "rowLimit": 10000
     },
     "inputWidgets": {},
     "nuid": "fea82464-7b43-4e01-a462-866abed61b07",
     "showTitle": false,
     "tableResultSettingsMap": {},
     "title": ""
    }
   },
   "outputs": [],
   "source": [
    "#check connection\n",
    "df_kafka = spark.readStream.format(\"kafka\").options(**kafka_options).load()\n",
    "df_kafka.printSchema()"
   ]
  },
  {
   "cell_type": "code",
   "execution_count": 0,
   "metadata": {
    "application/vnd.databricks.v1+cell": {
     "cellMetadata": {
      "byteLimit": 2048000,
      "rowLimit": 10000
     },
     "inputWidgets": {},
     "nuid": "11b25b4e-fb9f-4a0a-afdf-4eb7e34c396c",
     "showTitle": false,
     "tableResultSettingsMap": {},
     "title": ""
    }
   },
   "outputs": [],
   "source": [
    "# strip first 5 bytes for proper avro deserialization\n",
    "df_kafka_clean = df_kafka.withColumn(\n",
    "    \"avro_value\", expr(\"substring(value, 6, length(value)-5)\")\n",
    ").select(\n",
    "    col(\"key\").cast(\"string\"),  \n",
    "    col(\"avro_value\"),         \n",
    "    col(\"topic\"), col(\"partition\"),\n",
    "    col(\"offset\"), col(\"timestamp\"), col(\"timestampType\")\n",
    ")"
   ]
  },
  {
   "cell_type": "code",
   "execution_count": 0,
   "metadata": {
    "application/vnd.databricks.v1+cell": {
     "cellMetadata": {
      "byteLimit": 2048000,
      "rowLimit": 10000
     },
     "inputWidgets": {},
     "nuid": "e9be3e38-6978-4825-b2e7-543d7d9e7ed5",
     "showTitle": false,
     "tableResultSettingsMap": {},
     "title": ""
    }
   },
   "outputs": [],
   "source": [
    "# process oreders topic\n",
    "df_orders=df_kafka_clean.filter(col(\"topic\")==\"ecommerce.ecommerce.orders\").select(col('key').cast('string'),from_avro('avro_value',schemas['ecommerce.ecommerce.orders-value']).alias('value_decoded'),col(\"partition\"),col(\"offset\"),col(\"timestamp\"),col(\"timestampType\"))\n",
    "df_orders_flattened = df_orders.select(\n",
    "    col(\"key\").cast('string').alias(\"key\"),\n",
    "    to_json(col(\"value_decoded.before\")).alias(\"before\"),\n",
    "    to_json(col(\"value_decoded.after\")).alias(\"after\"),\n",
    "    col(\"value_decoded.op\").alias(\"op\"),\n",
    "    from_unixtime(col(\"value_decoded.ts_ms\")/1000).alias(\"ts_ms\"),\n",
    "    to_json(col(\"value_decoded.transaction\")).alias(\"transaction\"),\n",
    "    to_json(col(\"value_decoded.source\")).alias(\"source\"),\n",
    "    col(\"partition\"),\n",
    "    col(\"offset\"),\n",
    "    col(\"timestamp\"),\n",
    "    col(\"timestampType\")\n",
    ")\n",
    "df_orders_flattened.writeStream.format(\"delta\").option(\"checkpointLocation\", \"dbfs:/checkpoints/ecommerce_cdc/bronze_orders\").outputMode(\"append\").start(\"gs://ecommerce_cdc/bronze/orders\")"
   ]
  },
  {
   "cell_type": "code",
   "execution_count": 0,
   "metadata": {
    "application/vnd.databricks.v1+cell": {
     "cellMetadata": {
      "byteLimit": 2048000,
      "rowLimit": 10000
     },
     "inputWidgets": {},
     "nuid": "b010a3d2-2e37-45c1-a309-46ac288d183c",
     "showTitle": false,
     "tableResultSettingsMap": {},
     "title": ""
    }
   },
   "outputs": [],
   "source": [
    "# process customers topic\n",
    "df_customers=df_kafka_clean.filter(col(\"topic\")==\"ecommerce.ecommerce.customers\").select(col('key').cast('string'),from_avro('avro_value',schemas['ecommerce.ecommerce.customers-value']).alias('value_decoded'),col(\"partition\"),col(\"offset\"),col(\"timestamp\"),col(\"timestampType\"))\n",
    "df_customers_flattened = df_customers.select(\n",
    "    col(\"key\").cast('string').alias(\"key\"),\n",
    "    to_json(col(\"value_decoded.before\")).alias(\"before\"),\n",
    "    to_json(col(\"value_decoded.after\")).alias(\"after\"),\n",
    "    col(\"value_decoded.op\").alias(\"op\"),\n",
    "    from_unixtime(col(\"value_decoded.ts_ms\")/1000).alias(\"ts_ms\"),\n",
    "    to_json(col(\"value_decoded.transaction\")).alias(\"transaction\"),\n",
    "    to_json(col(\"value_decoded.source\")).alias(\"source\"),\n",
    "    col(\"partition\"),\n",
    "    col(\"offset\"),\n",
    "    col(\"timestamp\"),\n",
    "    col(\"timestampType\")\n",
    "    )\n",
    "df_orders_flattened.writeStream.format(\"delta\").option(\"checkpointLocation\", \"dbfs:/checkpoints/ecommerce_cdc/bronze_customers\").outputMode(\"append\").start(\"gs://ecommerce_cdc/bronze/customers\")"
   ]
  },
  {
   "cell_type": "code",
   "execution_count": 0,
   "metadata": {
    "application/vnd.databricks.v1+cell": {
     "cellMetadata": {
      "byteLimit": 2048000,
      "rowLimit": 10000
     },
     "inputWidgets": {},
     "nuid": "f5acf2a5-d969-4fdc-94fa-fbd051f4bb93",
     "showTitle": false,
     "tableResultSettingsMap": {},
     "title": ""
    }
   },
   "outputs": [],
   "source": [
    "# process products topic\n",
    "df_products=df_kafka_clean.filter(col(\"topic\")==\"ecommerce.ecommerce.products\").select(col('key').cast('string'),from_avro('avro_value',schemas['ecommerce.ecommerce.products-value']).alias('value_decoded'),col(\"partition\"),col(\"offset\"),col(\"timestamp\"),col(\"timestampType\"))\n",
    "df_products_flattened = df_products.select(\n",
    "    col(\"key\").cast('string').alias(\"key\"),\n",
    "    to_json(col(\"value_decoded.before\")).alias(\"before\"),\n",
    "    to_json(col(\"value_decoded.after\")).alias(\"after\"),\n",
    "    col(\"value_decoded.op\").alias(\"op\"),\n",
    "    from_unixtime(col(\"value_decoded.ts_ms\")/1000).alias(\"ts_ms\"),\n",
    "    to_json(col(\"value_decoded.transaction\")).alias(\"transaction\"),\n",
    "    to_json(col(\"value_decoded.source\")).alias(\"source\"),\n",
    "    col(\"partition\"),\n",
    "    col(\"offset\"),\n",
    "    col(\"timestamp\"),\n",
    "    col(\"timestampType\")\n",
    "    )\n",
    "df_products_flattened.writeStream.format(\"delta\").option(\"checkpointLocation\", \"dbfs:/checkpoints/ecommerce_cdc/bronze_products\").outputMode(\"append\").start(\"gs://ecommerce_cdc/bronze/products\")"
   ]
  }
 ],
 "metadata": {
  "application/vnd.databricks.v1+notebook": {
   "computePreferences": null,
   "dashboards": [],
   "environmentMetadata": {
    "base_environment": "",
    "environment_version": "2"
   },
   "language": "python",
   "notebookMetadata": {
    "mostRecentlyExecutedCommandWithImplicitDF": {
     "commandId": 8152866384940,
     "dataframes": [
      "_sqldf"
     ]
    },
    "pythonIndentUnit": 4
   },
   "notebookName": "01_bronze_ingestion",
   "widgets": {}
  },
  "language_info": {
   "name": "python"
  }
 },
 "nbformat": 4,
 "nbformat_minor": 0
}
