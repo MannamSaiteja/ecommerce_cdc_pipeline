{
 "cells": [
  {
   "cell_type": "code",
   "execution_count": 0,
   "metadata": {
    "application/vnd.databricks.v1+cell": {
     "cellMetadata": {
      "byteLimit": 2048000,
      "implicitDf": true,
      "rowLimit": 10000
     },
     "inputWidgets": {},
     "nuid": "80eff3bd-33e3-422c-a0c5-78c3363010b7",
     "showTitle": false,
     "tableResultSettingsMap": {},
     "title": ""
    }
   },
   "outputs": [],
   "source": [
    "%sql\n",
    "CREATE TABLE IF NOT EXISTS new_ecommerce_cdc.silver.orders (\n",
    "    order_id STRING PRIMARY KEY,\n",
    "    customer_id STRING,\n",
    "    product_id STRING,\n",
    "    status STRING,\n",
    "    order_date TIMESTAMP,\n",
    "    last_updated TIMESTAMP\n",
    ") USING DELTA;\n"
   ]
  },
  {
   "cell_type": "code",
   "execution_count": 0,
   "metadata": {
    "application/vnd.databricks.v1+cell": {
     "cellMetadata": {
      "byteLimit": 2048000,
      "implicitDf": true,
      "rowLimit": 10000
     },
     "inputWidgets": {},
     "nuid": "32832e5d-1ccd-4298-8747-3576ed7193cb",
     "showTitle": false,
     "tableResultSettingsMap": {},
     "title": ""
    }
   },
   "outputs": [],
   "source": [
    "%sql\n",
    "CREATE TABLE IF NOT EXISTS  new_ecommerce_cdc.silver.customers (\n",
    "    customer_id STRING PRIMARY KEY,\n",
    "    name STRING,\n",
    "    email STRING,\n",
    "    created_at TIMESTAMP,\n",
    "    last_updated TIMESTAMP\n",
    ") USING DELTA;\n"
   ]
  },
  {
   "cell_type": "code",
   "execution_count": 0,
   "metadata": {
    "application/vnd.databricks.v1+cell": {
     "cellMetadata": {
      "byteLimit": 2048000,
      "implicitDf": true,
      "rowLimit": 10000
     },
     "inputWidgets": {},
     "nuid": "690a1530-a563-40e5-af70-14e322dd834a",
     "showTitle": false,
     "tableResultSettingsMap": {},
     "title": ""
    }
   },
   "outputs": [],
   "source": [
    "%sql\n",
    "CREATE TABLE IF NOT EXISTS  new_ecommerce_cdc.silver.products (\n",
    "    product_id STRING PRIMARY KEY,\n",
    "    name STRING,\n",
    "    price FLOAT,\n",
    "    created_at TIMESTAMP,\n",
    "    stock_quantity INT,\n",
    "    last_updated TIMESTAMP\n",
    ") USING DELTA;\n"
   ]
  }
 ],
 "metadata": {
  "application/vnd.databricks.v1+notebook": {
   "computePreferences": null,
   "dashboards": [],
   "environmentMetadata": {
    "base_environment": "",
    "environment_version": "2"
   },
   "language": "python",
   "notebookMetadata": {
    "mostRecentlyExecutedCommandWithImplicitDF": {
     "commandId": 602199516812955,
     "dataframes": [
      "_sqldf"
     ]
    },
    "pythonIndentUnit": 4
   },
   "notebookName": "02_silver_schema",
   "widgets": {}
  },
  "language_info": {
   "name": "python"
  }
 },
 "nbformat": 4,
 "nbformat_minor": 0
}
